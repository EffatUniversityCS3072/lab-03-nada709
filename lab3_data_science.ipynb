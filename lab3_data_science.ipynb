{
  "cells": [
    {
      "cell_type": "markdown",
      "id": "26cf5d84-cfef-4446-8191-d3243e5287f6",
      "metadata": {
        "id": "26cf5d84-cfef-4446-8191-d3243e5287f6"
      },
      "source": [
        "## Lab 3: pandas\n",
        "\n",
        "#### Introduction\n",
        "\n",
        "We will examine a dataset containing characteristics of lego sets manufactured between 1961 and 2019 from the BRICKSET website. Variables in the dataset are described below.\n",
        "\n",
        "| VARIABLE             |      DESCRIPTION             |\n",
        "|:----------|:-------------|\n",
        "| ID |  set id |\n",
        "| Name |    name of set   |\n",
        "| Themegroup | themegroup of set |\n",
        "| Theme |  theme of set |\n",
        "| Subtheme |    subtheme of set   |\n",
        "| Year | year released |\n",
        "| Pieces |  number of pieces |\n",
        "| Minifig |    number of minifigs   |\n",
        "| Package | type of packaging |\n",
        "| Retail_Price |  recommended retail pri\n",
        "\n",
        "\n",
        "\n",
        "Load pandas to read in the data and save it as dataframe named lego."
      ]
    },
    {
      "cell_type": "code",
      "execution_count": 3,
      "id": "c5749932-fc68-41af-9354-8ef58288707f",
      "metadata": {
        "colab": {
          "base_uri": "https://localhost:8080/",
          "height": 74
        },
        "id": "c5749932-fc68-41af-9354-8ef58288707f",
        "outputId": "05a4bea5-f22f-4712-a44e-d27a6ba40ebc"
      },
      "outputs": [
        {
          "output_type": "display_data",
          "data": {
            "text/plain": [
              "<IPython.core.display.HTML object>"
            ],
            "text/html": [
              "\n",
              "     <input type=\"file\" id=\"files-d61a8e25-d230-4077-a91b-e9de9bb6c2f8\" name=\"files[]\" multiple disabled\n",
              "        style=\"border:none\" />\n",
              "     <output id=\"result-d61a8e25-d230-4077-a91b-e9de9bb6c2f8\">\n",
              "      Upload widget is only available when the cell has been executed in the\n",
              "      current browser session. Please rerun this cell to enable.\n",
              "      </output>\n",
              "      <script>// Copyright 2017 Google LLC\n",
              "//\n",
              "// Licensed under the Apache License, Version 2.0 (the \"License\");\n",
              "// you may not use this file except in compliance with the License.\n",
              "// You may obtain a copy of the License at\n",
              "//\n",
              "//      http://www.apache.org/licenses/LICENSE-2.0\n",
              "//\n",
              "// Unless required by applicable law or agreed to in writing, software\n",
              "// distributed under the License is distributed on an \"AS IS\" BASIS,\n",
              "// WITHOUT WARRANTIES OR CONDITIONS OF ANY KIND, either express or implied.\n",
              "// See the License for the specific language governing permissions and\n",
              "// limitations under the License.\n",
              "\n",
              "/**\n",
              " * @fileoverview Helpers for google.colab Python module.\n",
              " */\n",
              "(function(scope) {\n",
              "function span(text, styleAttributes = {}) {\n",
              "  const element = document.createElement('span');\n",
              "  element.textContent = text;\n",
              "  for (const key of Object.keys(styleAttributes)) {\n",
              "    element.style[key] = styleAttributes[key];\n",
              "  }\n",
              "  return element;\n",
              "}\n",
              "\n",
              "// Max number of bytes which will be uploaded at a time.\n",
              "const MAX_PAYLOAD_SIZE = 100 * 1024;\n",
              "\n",
              "function _uploadFiles(inputId, outputId) {\n",
              "  const steps = uploadFilesStep(inputId, outputId);\n",
              "  const outputElement = document.getElementById(outputId);\n",
              "  // Cache steps on the outputElement to make it available for the next call\n",
              "  // to uploadFilesContinue from Python.\n",
              "  outputElement.steps = steps;\n",
              "\n",
              "  return _uploadFilesContinue(outputId);\n",
              "}\n",
              "\n",
              "// This is roughly an async generator (not supported in the browser yet),\n",
              "// where there are multiple asynchronous steps and the Python side is going\n",
              "// to poll for completion of each step.\n",
              "// This uses a Promise to block the python side on completion of each step,\n",
              "// then passes the result of the previous step as the input to the next step.\n",
              "function _uploadFilesContinue(outputId) {\n",
              "  const outputElement = document.getElementById(outputId);\n",
              "  const steps = outputElement.steps;\n",
              "\n",
              "  const next = steps.next(outputElement.lastPromiseValue);\n",
              "  return Promise.resolve(next.value.promise).then((value) => {\n",
              "    // Cache the last promise value to make it available to the next\n",
              "    // step of the generator.\n",
              "    outputElement.lastPromiseValue = value;\n",
              "    return next.value.response;\n",
              "  });\n",
              "}\n",
              "\n",
              "/**\n",
              " * Generator function which is called between each async step of the upload\n",
              " * process.\n",
              " * @param {string} inputId Element ID of the input file picker element.\n",
              " * @param {string} outputId Element ID of the output display.\n",
              " * @return {!Iterable<!Object>} Iterable of next steps.\n",
              " */\n",
              "function* uploadFilesStep(inputId, outputId) {\n",
              "  const inputElement = document.getElementById(inputId);\n",
              "  inputElement.disabled = false;\n",
              "\n",
              "  const outputElement = document.getElementById(outputId);\n",
              "  outputElement.innerHTML = '';\n",
              "\n",
              "  const pickedPromise = new Promise((resolve) => {\n",
              "    inputElement.addEventListener('change', (e) => {\n",
              "      resolve(e.target.files);\n",
              "    });\n",
              "  });\n",
              "\n",
              "  const cancel = document.createElement('button');\n",
              "  inputElement.parentElement.appendChild(cancel);\n",
              "  cancel.textContent = 'Cancel upload';\n",
              "  const cancelPromise = new Promise((resolve) => {\n",
              "    cancel.onclick = () => {\n",
              "      resolve(null);\n",
              "    };\n",
              "  });\n",
              "\n",
              "  // Wait for the user to pick the files.\n",
              "  const files = yield {\n",
              "    promise: Promise.race([pickedPromise, cancelPromise]),\n",
              "    response: {\n",
              "      action: 'starting',\n",
              "    }\n",
              "  };\n",
              "\n",
              "  cancel.remove();\n",
              "\n",
              "  // Disable the input element since further picks are not allowed.\n",
              "  inputElement.disabled = true;\n",
              "\n",
              "  if (!files) {\n",
              "    return {\n",
              "      response: {\n",
              "        action: 'complete',\n",
              "      }\n",
              "    };\n",
              "  }\n",
              "\n",
              "  for (const file of files) {\n",
              "    const li = document.createElement('li');\n",
              "    li.append(span(file.name, {fontWeight: 'bold'}));\n",
              "    li.append(span(\n",
              "        `(${file.type || 'n/a'}) - ${file.size} bytes, ` +\n",
              "        `last modified: ${\n",
              "            file.lastModifiedDate ? file.lastModifiedDate.toLocaleDateString() :\n",
              "                                    'n/a'} - `));\n",
              "    const percent = span('0% done');\n",
              "    li.appendChild(percent);\n",
              "\n",
              "    outputElement.appendChild(li);\n",
              "\n",
              "    const fileDataPromise = new Promise((resolve) => {\n",
              "      const reader = new FileReader();\n",
              "      reader.onload = (e) => {\n",
              "        resolve(e.target.result);\n",
              "      };\n",
              "      reader.readAsArrayBuffer(file);\n",
              "    });\n",
              "    // Wait for the data to be ready.\n",
              "    let fileData = yield {\n",
              "      promise: fileDataPromise,\n",
              "      response: {\n",
              "        action: 'continue',\n",
              "      }\n",
              "    };\n",
              "\n",
              "    // Use a chunked sending to avoid message size limits. See b/62115660.\n",
              "    let position = 0;\n",
              "    do {\n",
              "      const length = Math.min(fileData.byteLength - position, MAX_PAYLOAD_SIZE);\n",
              "      const chunk = new Uint8Array(fileData, position, length);\n",
              "      position += length;\n",
              "\n",
              "      const base64 = btoa(String.fromCharCode.apply(null, chunk));\n",
              "      yield {\n",
              "        response: {\n",
              "          action: 'append',\n",
              "          file: file.name,\n",
              "          data: base64,\n",
              "        },\n",
              "      };\n",
              "\n",
              "      let percentDone = fileData.byteLength === 0 ?\n",
              "          100 :\n",
              "          Math.round((position / fileData.byteLength) * 100);\n",
              "      percent.textContent = `${percentDone}% done`;\n",
              "\n",
              "    } while (position < fileData.byteLength);\n",
              "  }\n",
              "\n",
              "  // All done.\n",
              "  yield {\n",
              "    response: {\n",
              "      action: 'complete',\n",
              "    }\n",
              "  };\n",
              "}\n",
              "\n",
              "scope.google = scope.google || {};\n",
              "scope.google.colab = scope.google.colab || {};\n",
              "scope.google.colab._files = {\n",
              "  _uploadFiles,\n",
              "  _uploadFilesContinue,\n",
              "};\n",
              "})(self);\n",
              "</script> "
            ]
          },
          "metadata": {}
        },
        {
          "output_type": "stream",
          "name": "stdout",
          "text": [
            "Saving lego.csv to lego.csv\n"
          ]
        }
      ],
      "source": [
        "from google.colab import files\n",
        "import pandas as pd\n",
        "uploaded = files.upload()"
      ]
    },
    {
      "cell_type": "code",
      "source": [
        "import io\n",
        "df = pd.read_csv(io.BytesIO(uploaded['lego.csv']))"
      ],
      "metadata": {
        "id": "px448SAB1GLJ"
      },
      "id": "px448SAB1GLJ",
      "execution_count": 4,
      "outputs": []
    },
    {
      "cell_type": "markdown",
      "id": "cc9d92c3-501a-4b50-a345-806b102b6a76",
      "metadata": {
        "id": "cc9d92c3-501a-4b50-a345-806b102b6a76"
      },
      "source": [
        "#### Question 1:\n",
        "Some sets have missing information for retail_price or pieces or both. This could be because the sets are free (giveaways), they aren’t traditional lego sets (comic books, etc) or just because the information is missing. Filter the lego dataset based on the specifications below and save the result as lego. Hence, you will overwrite the original lego object. In addition, describe the implications of removing these sets.\n",
        "\n",
        "Your new lego (data frame) should have:\n",
        "\n",
        "• no missing pieces\n",
        "\n",
        "• only contain sets with a nonzero number of pieces\n",
        "\n",
        "• no missing retail_price\n",
        "\n",
        "• only contain sets with a nonzero retail_price\n",
        "\n",
        "• no missing year\n",
        "\n",
        "- Print out the shape of the dataframe after cleaning the dataset.\n",
        "-"
      ]
    },
    {
      "cell_type": "code",
      "execution_count": 6,
      "id": "9d5c1301-b2ee-4c0d-9b5a-5a8a3e625ecd",
      "metadata": {
        "colab": {
          "base_uri": "https://localhost:8080/"
        },
        "id": "9d5c1301-b2ee-4c0d-9b5a-5a8a3e625ecd",
        "outputId": "265c46ba-9edd-4deb-85cd-dd38691a84d5"
      },
      "outputs": [
        {
          "output_type": "stream",
          "name": "stdout",
          "text": [
            "(7213, 10)\n"
          ]
        }
      ],
      "source": [
        "# Write your answer here\n",
        "lego = pd.read_csv('lego.csv')\n",
        "# Filter the DataFrame based on the specified conditions\n",
        "lego = lego.dropna(subset=['pieces', 'retail_price', 'year'])  # Remove rows with missing values in specified columns\n",
        "lego = lego[(lego['pieces'] > 0) & (lego['retail_price'] > 0)]  # Keep only rows with non-zero pieces and retail price\n",
        "\n",
        "# Print the shape of the cleaned DataFrame\n",
        "print(lego.shape)\n"
      ]
    },
    {
      "cell_type": "markdown",
      "id": "1193e396-77f1-48d9-a378-141f9ae0b491",
      "metadata": {
        "id": "1193e396-77f1-48d9-a378-141f9ae0b491"
      },
      "source": [
        "#### Question 2:\n",
        "Arrange the dataset in descending order of retail_price and print the first three rows. Report in words the names of the three most expensive lego sets, their prices, and how many pieces each has."
      ]
    },
    {
      "cell_type": "code",
      "execution_count": 7,
      "id": "434c3555-0556-4332-a5c7-944834f407b8",
      "metadata": {
        "colab": {
          "base_uri": "https://localhost:8080/"
        },
        "id": "434c3555-0556-4332-a5c7-944834f407b8",
        "outputId": "9eb70ae0-861d-45ec-86c7-e7ac06fb823f"
      },
      "outputs": [
        {
          "output_type": "stream",
          "name": "stdout",
          "text": [
            "                   name  retail_price  pieces\n",
            "1434  Millennium Falcon        799.99  7541.0\n",
            "3426    Connections Kit        754.99  2455.0\n",
            "2065         Death Star        499.99  4016.0\n"
          ]
        }
      ],
      "source": [
        "# Write your answer here\n",
        "# Sort the DataFrame by 'retail_price' in descending order\n",
        "sorted_lego = lego.sort_values(by='retail_price', ascending=False)\n",
        "\n",
        "# Get the first three rows\n",
        "top_three_sets = sorted_lego.head(3)\n",
        "\n",
        "# Print the top three sets\n",
        "print(top_three_sets[['name', 'retail_price', 'pieces']])\n"
      ]
    },
    {
      "cell_type": "markdown",
      "id": "e972d030-9086-4b6f-b4bf-02d61bd5b2af",
      "metadata": {
        "id": "e972d030-9086-4b6f-b4bf-02d61bd5b2af"
      },
      "source": [
        "#### Question 3:\n",
        "\n",
        "It appears that the most expensive sets generally have more pieces. Create a new variable (column) price_per_piece, representing the price in dollars per piece for each of the sets. Save the result as lego2. Hence, you will overwrite the current lego object."
      ]
    },
    {
      "cell_type": "code",
      "execution_count": 8,
      "id": "8061514b-9a20-45d0-9998-75f3ca9b1bc4",
      "metadata": {
        "colab": {
          "base_uri": "https://localhost:8080/"
        },
        "id": "8061514b-9a20-45d0-9998-75f3ca9b1bc4",
        "outputId": "c5ffed9d-8937-4fd4-cefc-6cb073005814"
      },
      "outputs": [
        {
          "output_type": "stream",
          "name": "stdout",
          "text": [
            "        id                            name    themegroup           theme  \\\n",
            "1  10264-1                   Corner Garage  Model making  Creator Expert   \n",
            "2  10265-1                    Ford Mustang  Model making  Creator Expert   \n",
            "3  10766-1                      Woody & RC      Licensed       Toy Story   \n",
            "4  10769-1                     RV Vacation      Licensed       Toy Story   \n",
            "5  10770-1  Buzz & Woody's Carnival Mania!      Licensed       Toy Story   \n",
            "\n",
            "            subtheme    year  pieces  minifigs package  retail_price  \\\n",
            "1  Modular Buildings  2019.0  2569.0         6     Box        199.99   \n",
            "2           Vehicles  2019.0  1471.0         0     Box        149.99   \n",
            "3        Toy Story 4  2019.0    69.0         0     Box          9.99   \n",
            "4        Toy Story 4  2019.0   178.0         0     Box         34.99   \n",
            "5        Toy Story 4  2019.0   230.0         0     Box         49.99   \n",
            "\n",
            "   price_per_piece  \n",
            "1         0.077847  \n",
            "2         0.101965  \n",
            "3         0.144783  \n",
            "4         0.196573  \n",
            "5         0.217348  \n"
          ]
        }
      ],
      "source": [
        "# Write your answer here\n",
        "\n",
        "# Create the new column 'price_per_piece'\n",
        "lego['price_per_piece'] = lego['retail_price'] / lego['pieces']\n",
        "\n",
        "# Save the result as lego2 (overwriting the current lego object)\n",
        "lego2 = lego\n",
        "\n",
        "# Display the first few rows to confirm the new column has been added\n",
        "print(lego2.head())\n"
      ]
    },
    {
      "cell_type": "markdown",
      "id": "a66016ad-869d-4412-b809-749423e9c8d2",
      "metadata": {
        "id": "a66016ad-869d-4412-b809-749423e9c8d2"
      },
      "source": [
        "#### Question 4:\n",
        "\n",
        "Arrange the lego2 dataset in descending order of price_per_piece and return only the columns: name, themegroup, theme, pieces, price_per_piece, and the first five rows. What do you notice about these sets?"
      ]
    },
    {
      "cell_type": "code",
      "execution_count": 10,
      "id": "e4e623ce-d4d4-44d6-86a0-881a04eebf11",
      "metadata": {
        "colab": {
          "base_uri": "https://localhost:8080/"
        },
        "id": "e4e623ce-d4d4-44d6-86a0-881a04eebf11",
        "outputId": "5d280372-bf89-4282-f4c6-fdbe9114a3cf"
      },
      "outputs": [
        {
          "output_type": "stream",
          "name": "stdout",
          "text": [
            "                               name   themegroup       theme  pieces  \\\n",
            "3586          EV3 Intelligent Brick    Technical  Mindstorms     1.0   \n",
            "5298  Intelligent NXT Brick (Black)    Technical  Mindstorms     1.0   \n",
            "6452          NXT Intelligent Brick    Technical  Mindstorms     1.0   \n",
            "9029    RCX Programmable LEGO Brick    Technical  Mindstorms     1.0   \n",
            "5272    NXT DC Rechargeable Battery  Educational   Education     1.0   \n",
            "\n",
            "      price_per_piece  \n",
            "3586           204.99  \n",
            "5298           169.99  \n",
            "6452           169.99  \n",
            "9029           110.00  \n",
            "5272            79.99  \n"
          ]
        }
      ],
      "source": [
        "# Write your answer here\n",
        "# Arrange the lego2 dataset in descending order of price_per_piece\n",
        "sorted_lego2 = lego2.sort_values(by='price_per_piece', ascending=False)\n",
        "\n",
        "# Select the specified columns and get the first five rows\n",
        "result = sorted_lego2[['name', 'themegroup', 'theme', 'pieces', 'price_per_piece']].head(5)\n",
        "\n",
        "# Display the result\n",
        "print(result)"
      ]
    },
    {
      "cell_type": "markdown",
      "id": "1603a4f2-1e28-43e9-8677-87dcfaf61912",
      "metadata": {
        "id": "1603a4f2-1e28-43e9-8677-87dcfaf61912"
      },
      "source": [
        "#### Question 5:\n",
        "\n",
        "What is the mean price_per_piece for the top 40 'Toy Story' sets in terms of price_per_piece?"
      ]
    },
    {
      "cell_type": "code",
      "execution_count": 11,
      "id": "af76d9ef-a022-4e73-97f4-ba3899219d8b",
      "metadata": {
        "colab": {
          "base_uri": "https://localhost:8080/"
        },
        "id": "af76d9ef-a022-4e73-97f4-ba3899219d8b",
        "outputId": "ed1c9f7c-2d4e-4c1f-d4b2-f64552fb71e7"
      },
      "outputs": [
        {
          "output_type": "stream",
          "name": "stdout",
          "text": [
            "The mean price per piece for the top 40 'Toy Story' sets is: $0.15\n"
          ]
        }
      ],
      "source": [
        "# Write your answer here\n",
        "# Filter the lego2 dataset for 'Toy Story' sets\n",
        "toy_story_sets = lego2[lego2['theme'] == 'Toy Story']\n",
        "\n",
        "# Sort the 'Toy Story' sets by price_per_piece in descending order\n",
        "top_toy_story_sets = toy_story_sets.sort_values(by='price_per_piece', ascending=False)\n",
        "\n",
        "# Select the top 40 sets\n",
        "top_40_toy_story_sets = top_toy_story_sets.head(40)\n",
        "\n",
        "# Calculate the mean price_per_piece\n",
        "mean_price_per_piece = top_40_toy_story_sets['price_per_piece'].mean()\n",
        "\n",
        "# Print the mean price_per_piece\n",
        "print(f\"The mean price per piece for the top 40 'Toy Story' sets is: ${mean_price_per_piece:.2f}\")\n"
      ]
    },
    {
      "cell_type": "markdown",
      "id": "45a75d99",
      "metadata": {
        "id": "45a75d99"
      },
      "source": [
        "#### Question 6:\n",
        "\n",
        "What are the unique themes in the lego dataset?"
      ]
    },
    {
      "cell_type": "code",
      "execution_count": 12,
      "id": "fbdb9c4c",
      "metadata": {
        "colab": {
          "base_uri": "https://localhost:8080/"
        },
        "id": "fbdb9c4c",
        "outputId": "cd20babf-9c07-4891-cd67-7187227cb5ad"
      },
      "outputs": [
        {
          "output_type": "stream",
          "name": "stdout",
          "text": [
            "['Creator Expert' 'Toy Story' 'Duplo' 'Classic' 'Architecture' 'Minecraft'\n",
            " 'Ideas' 'City' 'Creator' 'BrickHeadz' 'Friends' 'Disney' 'Technic'\n",
            " 'Ninjago' 'The Lego Movie 2: The Second Part' 'Star Wars'\n",
            " 'Speed Champions' 'Jurassic World' 'Overwatch' 'Marvel Super Heroes'\n",
            " 'DC Comics Super Heroes' 'Juniors' 'Wizarding World' 'Miscellaneous'\n",
            " 'Seasonal' 'Promotional' 'Xtra' 'Unikitty' 'Elves' 'The Powerpuff Girls'\n",
            " 'The LEGO Ninjago Movie' 'The LEGO Batman Movie'\n",
            " 'Collectable Minifigures' 'Nexo Knights' 'Powered Up' 'Boost'\n",
            " 'DC Super Hero Girls' 'Pirates of the Caribbean' 'Dimensions' 'Books'\n",
            " 'Education' 'Mixels' 'Mindstorms' 'Bionicle' 'The Angry Birds Movie'\n",
            " 'Ghostbusters' nan 'Legends of Chima' 'Pirates' 'Ultra Agents'\n",
            " 'The LEGO Movie' 'The Simpsons' 'Scooby-Doo' 'Bricks and More' 'Fusion'\n",
            " 'Teenage Mutant Ninja Turtles' 'HERO Factory' 'The Hobbit' 'Castle'\n",
            " 'The Lord of the Rings' 'Serious Play' 'Master Builder Academy' 'Space'\n",
            " 'The Lone Ranger' 'Games' 'Power Functions' 'Monster Fighters'\n",
            " 'Life of George' 'SpongeBob SquarePants' 'Dino' 'Racers' 'Cars'\n",
            " 'Harry Potter' \"Pharaoh's Quest\" 'Atlantis' 'Primo' 'World Racers'\n",
            " 'Prince of Persia' 'Power Miners' 'Ben 10: Alien Force' 'Indiana Jones'\n",
            " 'Agents' 'Factory' 'Belville' 'Batman' 'Exo-Force' 'Make and Create'\n",
            " 'Aqua Raiders' 'Trains' 'Sports' 'Avatar The Last Airbender' 'Quatro'\n",
            " 'Vikings' 'Dino Attack' 'Clikits' 'Bulk Bricks' 'Model Team' 'Town'\n",
            " 'World City' 'Explore' 'Alpha Team' 'Spider-Man' '4 Juniors' 'Hobby Set'\n",
            " 'Discovery' 'Adventurers' 'Studios' 'Spybotics' 'Jack Stone'\n",
            " 'Island Xtreme Stunts' 'Western' 'Action Wheelers' 'Scala' 'Dinosaurs'\n",
            " 'Dacta' 'Basic' 'Mickey Mouse' 'Service Packs' 'Aquazone' 'Rock Raiders'\n",
            " 'Freestyle' 'Znap' 'Time Cruisers' 'Boats' 'Assorted' 'Fabuland'\n",
            " 'Samsonite' 'Homemaker' 'LEGOLAND' 'Universal Building Set'\n",
            " 'Building Set with People']\n"
          ]
        }
      ],
      "source": [
        "# Write your answer here\n",
        "# Get the unique themes in the lego2 dataset\n",
        "unique_themes = lego2['theme'].unique()\n",
        "\n",
        "# Print the unique themes\n",
        "print(unique_themes)\n"
      ]
    }
  ],
  "metadata": {
    "kernelspec": {
      "display_name": "Python 3 (ipykernel)",
      "language": "python",
      "name": "python3"
    },
    "language_info": {
      "codemirror_mode": {
        "name": "ipython",
        "version": 3
      },
      "file_extension": ".py",
      "mimetype": "text/x-python",
      "name": "python",
      "nbconvert_exporter": "python",
      "pygments_lexer": "ipython3",
      "version": "3.9.13"
    },
    "colab": {
      "provenance": []
    }
  },
  "nbformat": 4,
  "nbformat_minor": 5
}